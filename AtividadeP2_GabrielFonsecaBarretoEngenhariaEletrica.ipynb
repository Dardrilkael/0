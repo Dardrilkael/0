{
  "nbformat": 4,
  "nbformat_minor": 0,
  "metadata": {
    "colab": {
      "provenance": [],
      "include_colab_link": true
    },
    "kernelspec": {
      "name": "python3",
      "display_name": "Python 3"
    },
    "language_info": {
      "name": "python"
    }
  },
  "cells": [
    {
      "cell_type": "markdown",
      "metadata": {
        "id": "view-in-github",
        "colab_type": "text"
      },
      "source": [
        "<a href=\"https://colab.research.google.com/github/Dardrilkael/0/blob/master/AtividadeP2_GabrielFonsecaBarretoEngenhariaEletrica.ipynb\" target=\"_parent\"><img src=\"https://colab.research.google.com/assets/colab-badge.svg\" alt=\"Open In Colab\"/></a>"
      ]
    },
    {
      "cell_type": "markdown",
      "source": [
        "Dados do Aluno:\n",
        "\n",
        "NOME:\n",
        "\n",
        "CURSO:"
      ],
      "metadata": {
        "id": "x1BGyDxX_7DJ"
      }
    },
    {
      "cell_type": "markdown",
      "source": [
        "#Questao 01\n",
        "\n",
        "A tabela mostra medidas da temperatura de uma xicara de café em intervalo de 1 minuto, após ser colocada em uma sala com uma temeperatura constante de $27^{o}$C.\n",
        "\n",
        "a) Estime a temperatura do café no instante em que foi colocado na sala.\n",
        "\n",
        "b) Aproximadamente, após quanto tempo a temperatura do café está a $5^{o}$C da temperatura da sala ?\n",
        "\n",
        "$\n",
        "\\begin{array}{|c|c|c|c|c|c|c|c|c||c|}\n",
        "  \\hline\n",
        "  t(min) & 1 & 2 & 3 & 4 & 5 & 6 & 7 & 8 & 9 & 10\\\\ \\hline\n",
        "  T(C) & 82.2 & 79.6 & 77.3 & 75.0 & 73.1 & 70.7 & 69.2 & 66.9 & 65.3 & 63.3\\\\ \\hline\n",
        "\\end{array}\n",
        "$"
      ],
      "metadata": {
        "id": "VRnfJDPswb_L"
      }
    },
    {
      "cell_type": "code",
      "execution_count": null,
      "metadata": {
        "id": "O3wjl18MwbkK"
      },
      "outputs": [],
      "source": [
        "#codigo questão 01"
      ]
    },
    {
      "cell_type": "code",
      "source": [],
      "metadata": {
        "id": "hZCRbew-xwJS"
      },
      "execution_count": null,
      "outputs": []
    },
    {
      "cell_type": "code",
      "source": [],
      "metadata": {
        "id": "dQBnCpJ0xyDU"
      },
      "execution_count": null,
      "outputs": []
    },
    {
      "cell_type": "markdown",
      "source": [
        "# Questão 02\n",
        "Calcular a $\\displaystyle \\int^{2}_{0} \\dfrac{e^{-cos(x)}}{\\sqrt{2x + 4}} dx$ pela regra do trapézio composta com $m=5$ subintervalos."
      ],
      "metadata": {
        "id": "9AbWqPq47x7c"
      }
    },
    {
      "cell_type": "code",
      "source": [
        "from math import exp,cos,sqrt;\n",
        "\n",
        "def f(x):\n",
        "    return exp(-cos(x))/sqrt(2*x+4)\n",
        "\n",
        "def integralf(f, a, b, h=1e-4):\n",
        "    x = a\n",
        "    soma = 0\n",
        "    while x + h <= b:\n",
        "        soma += ((f(x) + f(x + h)) * h) / 2\n",
        "        x += h\n",
        "\n",
        "    return soma;\n",
        "\n",
        "def integralIntevalo(f,a,b,n):\n",
        " return integralf(f,a,b,(b-a)/n);\n",
        "\n",
        "result = integralIntevalo(f, 0, 2,5)\n",
        "print(\"O valor da integral usando 5 subintervalos e:\", result)"
      ],
      "metadata": {
        "id": "biMoI1KP_sMi"
      },
      "execution_count": null,
      "outputs": []
    },
    {
      "cell_type": "markdown",
      "source": [
        "# Questão 03\n",
        "\n",
        "Para a questão 03, assista os vídeos a seguir:\n",
        "\n",
        "video 01: https://youtu.be/rnWCTye0p7M \\\\\n",
        "video 02: https://youtu.be/vkDkXaGYPV0\n",
        "\n",
        "* TAREFA:\n",
        "\n",
        "Você irá interpolar algo real. Faça uma pesquisa sobre um tema da sua escolha. Você deve encontrar ou determinar uma tabela de valores. Feito isto, utilize os recursos do **vídeo 01** para importar esta tabela de valores e interpolar utilizando o método dado no **vídeo 02** para interpolar esta tabela para qualquer valor dado.\n",
        "\n",
        "Abaixo você deve colocar o código utilizando para resolução deta tarefa. Sua pesquisa deve ser entregue junto a este arquivo em formato PDF.\n",
        "\n",
        "ATENCAO: NAO SERAO ACEITOS ARQUIVOS EM OUTRO FORMATO."
      ],
      "metadata": {
        "id": "Y9dOlXNExwUL"
      }
    },
    {
      "cell_type": "code",
      "source": [
        "# Código tarefa 03"
      ],
      "metadata": {
        "id": "x5ceFWeV531Q"
      },
      "execution_count": null,
      "outputs": []
    }
  ]
}